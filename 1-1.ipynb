{
 "cells": [
  {
   "cell_type": "code",
   "execution_count": 1,
   "metadata": {},
   "outputs": [],
   "source": [
    "import os\n",
    "import random\n",
    "import copy\n",
    "import datetime, time\n",
    "from PIL import Image\n",
    "import numpy as np\n",
    "from collections import deque\n",
    "%matplotlib inline\n",
    "import matplotlib.pyplot as plt\n",
    "\n",
    "import gym\n",
    "from gym.spaces import Box\n",
    "from gym.wrappers import FrameStack\n",
    "import gym_super_mario_bros\n",
    "\n",
    "from nes_py.wrappers import JoypadSpace\n",
    "\n",
    "import tensorflow as tf"
   ]
  },
  {
   "cell_type": "code",
   "execution_count": 2,
   "metadata": {},
   "outputs": [],
   "source": [
    "physical_devices = tf.config.list_physical_devices('GPU')\n",
    "tf.config.experimental.set_memory_growth(physical_devices[0], True)"
   ]
  },
  {
   "cell_type": "code",
   "execution_count": 3,
   "metadata": {},
   "outputs": [],
   "source": [
    "def display_image(next_state, to_grayscale=False):\n",
    "    next_state_cont = np.ascontiguousarray(next_state)\n",
    "    if to_grayscale:\n",
    "        next_state_cont = tf.image.rgb_to_grayscale(next_state_cont)\n",
    "    plt.imshow(next_state_cont)"
   ]
  },
  {
   "cell_type": "code",
   "execution_count": 4,
   "metadata": {},
   "outputs": [
    {
     "data": {
      "text/plain": [
       "((240, 256, 3),\n",
       " 0,\n",
       " False,\n",
       " {'coins': 0,\n",
       "  'flag_get': False,\n",
       "  'life': 2,\n",
       "  'score': 0,\n",
       "  'stage': 1,\n",
       "  'status': 'small',\n",
       "  'time': 400,\n",
       "  'world': 1,\n",
       "  'x_pos': 40,\n",
       "  'x_pos_screen': 40,\n",
       "  'y_pos': 79})"
      ]
     },
     "execution_count": 4,
     "metadata": {},
     "output_type": "execute_result"
    }
   ],
   "source": [
    "# Initialize Super Mario environment\n",
    "env = gym_super_mario_bros.make(\"SuperMarioBros-1-1-v0\")\n",
    "\n",
    "# Limit the action-space to\n",
    "# 0. walk right\n",
    "# 1. jump right\n",
    "env = JoypadSpace(env, [[\"right\"], [\"right\", \"A\"]])\n",
    "env.reset()\n",
    "next_state, reward, done, info = env.step(action=0)\n",
    "next_state.shape, reward, done, info"
   ]
  },
  {
   "cell_type": "code",
   "execution_count": 5,
   "metadata": {},
   "outputs": [
    {
     "data": {
      "image/png": "[encoded data removed]",
      "text/plain": [
       "<Figure size 432x288 with 1 Axes>"
      ]
     },
     "metadata": {
      "needs_background": "light"
     },
     "output_type": "display_data"
    }
   ],
   "source": [
    "# Check the first state of the Mario game image\n",
    "display_image(next_state)"
   ]
  },
  {
   "cell_type": "code",
   "execution_count": 6,
   "metadata": {},
   "outputs": [
    {
     "data": {
      "image/png": "[encoded data removed]",
      "text/plain": [
       "<Figure size 432x288 with 1 Axes>"
      ]
     },
     "metadata": {
      "needs_background": "light"
     },
     "output_type": "display_data"
    }
   ],
   "source": [
    "display_image(next_state, to_grayscale=True)"
   ]
  },
  {
   "cell_type": "code",
   "execution_count": 7,
   "metadata": {},
   "outputs": [],
   "source": [
    "class SkipFrame(gym.Wrapper):\n",
    "    def __init__(self, env, skip):\n",
    "        \"\"\" Return only every 'skip'-th frame \"\"\"\n",
    "        super().__init__(env)\n",
    "        self._skip = skip\n",
    "        \n",
    "    def step(self, action):\n",
    "        \"\"\" Repeat action, and sum reward \"\"\"\n",
    "        total_rewards = 0.0\n",
    "        done = False\n",
    "        for i in range(self._skip):\n",
    "            # Accumulate rewards and repeat the same action\n",
    "            next_state, reward, done, info = self.env.step(action)\n",
    "            total_rewards += reward\n",
    "            if done:\n",
    "                break\n",
    "        return next_state, total_rewards, done, info\n",
    "\n",
    "    \n",
    "class GrayScaleObservation(gym.ObservationWrapper):\n",
    "    def __init__(self, env):\n",
    "        super().__init__(env)\n",
    "        obs_shape = self.observation_space.shape[:2]\n",
    "        self.observation_space = Box(low=0, high=255, shape=obs_shape, dtype=np.uint8)\n",
    "        \n",
    "    def convert_numpy_to_tensor(self, observation):\n",
    "        observation = tf.convert_to_tensor(observation.copy(), dtype=tf.float32)\n",
    "        return observation\n",
    "    \n",
    "    def observation(self, observation):\n",
    "        observation = self.convert_numpy_to_tensor(observation)\n",
    "        observation = tf.image.rgb_to_grayscale(observation)\n",
    "        return observation\n",
    "\n",
    "    \n",
    "class ResizeObservation(gym.ObservationWrapper):\n",
    "    def __init__(self, env, shape):\n",
    "        super().__init__(env)\n",
    "        assert isinstance(shape, int), \"dtype of shape has to be int. {} is what we get.\".format(type(shape))\n",
    "        self.shape = (shape, shape)\n",
    "\n",
    "        # tuple + tuple: e.g. (240, 256) + (3,) = (240, 256, 3)\n",
    "        obs_shape = self.shape + self.observation_space.shape[2:]\n",
    "        self.observation_space = Box(low=0, high=255, shape=obs_shape, dtype=np.uint8)\n",
    "        \n",
    "    def observation(self, observation):\n",
    "        observation = tf.image.resize(observation, self.shape)\n",
    "        observation /= 255\n",
    "        return observation"
   ]
  },
  {
   "cell_type": "code",
   "execution_count": 8,
   "metadata": {},
   "outputs": [],
   "source": [
    "# Apply wrappers to the environment\n",
    "env = SkipFrame(env, skip=4)\n",
    "env = GrayScaleObservation(env)\n",
    "env = ResizeObservation(env, shape=84)"
   ]
  },
  {
   "cell_type": "code",
   "execution_count": 9,
   "metadata": {},
   "outputs": [
    {
     "data": {
      "text/plain": [
       "(TensorShape([84, 84, 1]),\n",
       " 0.0,\n",
       " False,\n",
       " {'coins': 0,\n",
       "  'flag_get': False,\n",
       "  'life': 2,\n",
       "  'score': 0,\n",
       "  'stage': 1,\n",
       "  'status': 'small',\n",
       "  'time': 400,\n",
       "  'world': 1,\n",
       "  'x_pos': 40,\n",
       "  'x_pos_screen': 40,\n",
       "  'y_pos': 93})"
      ]
     },
     "execution_count": 9,
     "metadata": {},
     "output_type": "execute_result"
    }
   ],
   "source": [
    "next_state, reward, done, info = env.step(action=1)\n",
    "next_state.shape, reward, done, info"
   ]
  },
  {
   "cell_type": "code",
   "execution_count": 10,
   "metadata": {},
   "outputs": [
    {
     "data": {
      "image/png": "[encoded data removed]",
      "text/plain": [
       "<Figure size 432x288 with 1 Axes>"
      ]
     },
     "metadata": {
      "needs_background": "light"
     },
     "output_type": "display_data"
    }
   ],
   "source": [
    "display_image(next_state)"
   ]
  },
  {
   "cell_type": "code",
   "execution_count": 11,
   "metadata": {},
   "outputs": [],
   "source": [
    "env = FrameStack(env, num_stack=4)"
   ]
  },
  {
   "cell_type": "code",
   "execution_count": 12,
   "metadata": {},
   "outputs": [],
   "source": [
    "class Mario:\n",
    "    def __init__(self, state_dim, action_dim, save_dir):\n",
    "        self.state_dim = state_dim\n",
    "        self.action_dim = action_dim\n",
    "        self.save_dir = save_dir\n",
    "        # Specify the max element length of 100000 for the deque\n",
    "        self.memory = deque(maxlen=100000)\n",
    "        self.batch_size = 32\n",
    "        # Mario's DNN to predict the most optimal action.\n",
    "        # We implement this in the Learn section\n",
    "        self.online_net = MarioNet(self.state_dim, self.action_dim)\n",
    "        self.target_net = MarioNet(self.state_dim, self.action_dim)\n",
    "        self.exploration_rate = tf.Variable(1.0)\n",
    "        self.exploration_rate_decay = tf.constant(0.99999975)\n",
    "        self.exploration_rate_min = 0.1\n",
    "        self.gamma = 0.9\n",
    "        self.optimizer = tf.keras.optimizers.Adam(learning_rate=0.00025)\n",
    "        self.loss_fn = tf.keras.losses.Huber()\n",
    "        self.curr_step = 0\n",
    "        # The number of experiences between saving Mario Net\n",
    "        self.save_every = 5e5\n",
    "        self.burnin = 1e4 # min. experiences before training\n",
    "        self.learn_every = 3 # number of experiences between updates to Q_online\n",
    "        self.sync_every = 1e4 # number of experiences between Q_target & Q_online sync\n",
    "    \n",
    "    def act(self, state):\n",
    "        \"\"\" \n",
    "        Given a state, choose an epsilon-greedy action and update value of step.\n",
    "        \n",
    "        Inputs:\n",
    "        state(LazyFrame): A single observation of the current state, The dimenstion: state_dim\n",
    "        Outputs:\n",
    "        action_idx(int): An integer representing which action Mario will perform\n",
    "        \"\"\"\n",
    "        # Explore\n",
    "        if np.random.rand() < self.exploration_rate.numpy():\n",
    "            action_idx = np.random.randint(self.action_dim)    \n",
    "        # Exploit\n",
    "        else:\n",
    "            state = state.__array__()\n",
    "            state = tf.convert_to_tensor(state)\n",
    "            state = tf.expand_dims(state, 0)\n",
    "            action_values = self.online_net(state)\n",
    "            action_idx = tf.math.argmax(action_values, axis=1)\n",
    "            \n",
    "        # decreate exploration rate\n",
    "        self.exploration_rate = self.exploration_rate * self.exploration_rate_decay\n",
    "        self.exploration_rate = max(self.exploration_rate, self.exploration_rate_min)\n",
    "        \n",
    "        # increment step\n",
    "        self.curr_step += 1\n",
    "        return action_idx\n",
    "    \n",
    "    def cache(self, state, next_state, action, reward, done):\n",
    "        \"\"\"\n",
    "        Store the experience(current sate, action performed, reward from the action,\n",
    "        nest state, whether the game is done) to self.memory (replay buffer)\n",
    "        \n",
    "        Inputs:\n",
    "        state (LazyFrame),\n",
    "        next_state (LazyFrame),\n",
    "        action (int),\n",
    "        reward (float),\n",
    "        done (bool)\n",
    "        \"\"\"\n",
    "        state = state.__array__()\n",
    "        next_state = next_state.__array__()\n",
    "        \n",
    "        state = tf.convert_to_tensor(state)\n",
    "        next_state = tf.convert_to_tensor(next_state)\n",
    "        action = tf.constant([action])\n",
    "        reward = tf.constant([reward])\n",
    "        done = tf.constant([done])\n",
    "        \n",
    "        self.memory.append((state, next_state, action, reward, done))\n",
    "    \n",
    "    def recall(self):\n",
    "        \"\"\"\n",
    "        Retrieve a batch of experiences from memory\n",
    "        \"\"\"\n",
    "        batch = random.sample(self.memory, self.batch_size)\n",
    "        state, next_state, action, reward, done = map(tf.stack, zip(*batch))\n",
    "        return state, next_state, tf.squeeze(action), tf.squeeze(reward), tf.squeeze(done)\n",
    "    \n",
    "    def td_estimate(self, state, action):\n",
    "        current_Q = self.online_net(state)[np.arange(0, self.batch_size), action] # Q_online(s, a)\n",
    "        return current_Q\n",
    "    \n",
    "    def td_target(self, reward, next_state, done):\n",
    "        next_state_Q = self.online_net(next_state)\n",
    "        best_action = tf.math.argmax(next_state_Q, axis=1)\n",
    "        next_Q = self.target_net(next_state)[np.arange(0, self.batch_size), best_action]\n",
    "        return (reward + (1 - done.float()) * self.gamma * next_Q).float()\n",
    "    \n",
    "    def train_step(state, next_state, action, reward, done):\n",
    "        td_tgt = self.td_target(reward, next_state, done)\n",
    "        with tf.GradientTape() as tape:\n",
    "            td_est = self.td_estimate(state, action)\n",
    "            loss = self.loss_fn(td_tgt, td_est)\n",
    "        \n",
    "        gradients = tape.gradient(loss, self.online_net.trainable_variables)\n",
    "        self.optimizer.apply_gradient(zip(gradients, self.online_net.trainable_variables))\n",
    "        \n",
    "        return td_est, loss\n",
    "            \n",
    "    def sync_Q_target(self):\n",
    "        self.target_net.set_weights(self.online_net.get_weights())\n",
    "            \n",
    "    def learn(self, ckpt_manager):\n",
    "        \"\"\" Update online action value (Q) function with a batch of experiences \"\"\"\n",
    "        if self.curr_step % self.sync_every == 0:\n",
    "            self.sync_Q_target()\n",
    "            \n",
    "        if self.curr_step % self.save_every == 0:\n",
    "            save_path = ckpt_manager.save()\n",
    "            print(f\"Saved checkpoint for step {self.curr_step}: {save_path}\")\n",
    "        \n",
    "        if self.curr_step < self.burnin:\n",
    "            return None, None\n",
    "        \n",
    "        if self.curr_step % self.learn_every != 0:\n",
    "            return None, None\n",
    "        \n",
    "        # Sample from memory\n",
    "        state, next_state, action, reward, done = self.recall()\n",
    "        \n",
    "        td_est, loss = self.train_step(state, next_state, action, reward, done)\n",
    "        \n",
    "        return tf.reduce_mean(td_est), loss"
   ]
  },
  {
   "cell_type": "code",
   "execution_count": 13,
   "metadata": {},
   "outputs": [],
   "source": [
    "class MarioNet(tf.keras.Model):\n",
    "    def __init__(self, input_dim, output_dim):\n",
    "        super(MarioNet, self).__init__()\n",
    "        h, w, _ = input_dim\n",
    "        \n",
    "        if h != 84:\n",
    "            raise ValueError(f\"Expecting input height: 84, got: {h}\")\n",
    "        if w != 84:\n",
    "            raise ValueError(f\"Expecting input width: 84, got: {w}\")\n",
    "            \n",
    "        self.conv_net = tf.keras.Sequential(\n",
    "            [tf.keras.layers.Conv2D(32, 8, 4),\n",
    "             tf.keras.layers.ReLU(),\n",
    "             tf.keras.layers.Conv2D(64, 4, 2),\n",
    "             tf.keras.layers.ReLU(),\n",
    "             tf.keras.layers.Conv2D(64, 3, 1),\n",
    "             tf.keras.layers.ReLU(),\n",
    "             tf.keras.layers.Flatten(),\n",
    "             tf.keras.layers.Dense(512),\n",
    "             tf.keras.layers.ReLU(),\n",
    "             tf.keras.layers.Dense(output_dim)])\n",
    "        \n",
    "    def call(self, inputs):\n",
    "        return self.conv_net(inputs)\n",
    "    \n",
    "    def summary(self):\n",
    "        x = tf.keras.layers.Input(shape=(84, 84, 3))\n",
    "        model = tf.keras.Model(inputs=[x], outputs=self.call(x))\n",
    "        return model.summary()"
   ]
  },
  {
   "cell_type": "code",
   "execution_count": 14,
   "metadata": {
    "scrolled": true
   },
   "outputs": [
    {
     "name": "stdout",
     "output_type": "stream",
     "text": [
      "Model: \"model\"\n",
      "_________________________________________________________________\n",
      "Layer (type)                 Output Shape              Param #   \n",
      "=================================================================\n",
      "input_1 (InputLayer)         [(None, 84, 84, 3)]       0         \n",
      "_________________________________________________________________\n",
      "sequential (Sequential)      (None, 3)                 1683619   \n",
      "=================================================================\n",
      "Total params: 1,683,619\n",
      "Trainable params: 1,683,619\n",
      "Non-trainable params: 0\n",
      "_________________________________________________________________\n"
     ]
    }
   ],
   "source": [
    "net = MarioNet((84, 84, 3), 3)\n",
    "net.summary()"
   ]
  },
  {
   "cell_type": "code",
   "execution_count": 18,
   "metadata": {},
   "outputs": [],
   "source": [
    "class MetricLogger:\n",
    "    def __init__(self, save_dir):\n",
    "        self.save_log = os.path.join(save_dir, \"logs\")\n",
    "        with open(self.save_log, \"w\")as f:\n",
    "            f.write(f\"{'Episode':>8}{'Step':>8}{'Epsilon':>10}{'MeanReward':>15}\"\n",
    "                    f\"{'MeanLength':>15}{'MeanLoss':>15}{'MeanQValue':>15}\"\n",
    "                    f\"{'TimeDelta':>15}{'Time':>20}\\n\")\n",
    "        \n",
    "        self.ep_rewards_plot = os.path.join(save_dir, \"reward_plot.jpg\")\n",
    "        self.ep_lengths_plot = os.path.join(save_dir, \"length_plot.jpg\")\n",
    "        self.ep_avg_losses_plot = os.path.join(save_dir, \"loss_plot.jpg\")\n",
    "        self.ep_avg_qs_plot = os.path.join(save_dir, \"q_plot.jpg\")\n",
    "        \n",
    "        # HIstory metrics\n",
    "        self.ep_rewards = []\n",
    "        self.ep_lengths = []\n",
    "        self.ep_avg_losses = []\n",
    "        self.ep_avg_qs = []\n",
    "        \n",
    "        # Moving averages, added for every call to record()\n",
    "        self.moving_avg_ep_rewards = []\n",
    "        self.moving_avg_ep_lengths = []\n",
    "        self.moving_avg_ep_avg_losses = []\n",
    "        self.moving_avg_ep_avg_qs = []\n",
    "        \n",
    "        # Current episode metric\n",
    "        self.init_episode()\n",
    "        \n",
    "        # Timing\n",
    "        self.record_time = time.time()\n",
    "        \n",
    "    def log_step(self, reward, loss, q):\n",
    "        self.curr_ep_reward += reward\n",
    "        self.curr_ep_length += 1\n",
    "        if loss:\n",
    "            self.curr_ep_loss += loss\n",
    "            self.curr_ep_q += q\n",
    "            self.curr_ep_loss_length +=1\n",
    "            \n",
    "    def log_episode(self):\n",
    "        \"\"\" Mark end of episode \"\"\"\n",
    "        self.ep_rewards.append(self.curr_ep_reward)\n",
    "        self.ep_lengths.append(self.curr_ep_length)\n",
    "        if self.curr_ep_loss_length == 0:\n",
    "            ep_avg_loss = 0\n",
    "            ep_avg_q = 0\n",
    "        else:\n",
    "            ep_avg_loss = np.round(self.curr_ep_loss / self.curr_ep_loss_length, 5)\n",
    "            ep_avg_q = np.round(self.curr_ep_q / self.curr_ep_loss_length, 5)\n",
    "        self.ep_avg_losses.append(ep_avg_loss)\n",
    "        self.ep_avg_qs.append(ep_avg_q)\n",
    "        \n",
    "        self.init_episode()\n",
    "        \n",
    "    def init_episode(self):\n",
    "        self.curr_ep_reward = 0.0\n",
    "        self.curr_ep_length = 0\n",
    "        self.curr_ep_loss = 0.0\n",
    "        self.curr_ep_q = 0.0\n",
    "        self.curr_ep_loss_length = 0\n",
    "        \n",
    "    def record(self, episode, epsilon, step):\n",
    "        mean_ep_reward = np.round(np.mean(self.ep_rewards[-100:]), 3)\n",
    "        mean_ep_length = np.round(np.mean(self.ep_lengths[-100:]), 3)\n",
    "        mean_ep_loss = np.round(np.mean(self.ep_avg_losses[-100:]), 3)\n",
    "        mean_ep_q = np.round(np.mean(self.ep_avg_qs[-100:]), 3)\n",
    "        self.moving_avg_ep_rewards.append(mean_ep_reward)\n",
    "        self.moving_avg_ep_lengths.append(mean_ep_length)\n",
    "        self.moving_avg_ep_avg_losses.append(mean_ep_loss)\n",
    "        self.moving_avg_ep_avg_qs.append(mean_ep_q)\n",
    "        \n",
    "        last_record_time = self.record_time\n",
    "        self.record_time = time.time()\n",
    "        time_since_last_record = np.round(self.record_time - last_record_time, 3)\n",
    "        \n",
    "        print(f\"Episode {episode} - \"\n",
    "              f\"Step {step} - \"\n",
    "              f\"Epsilon {epsilon} - \"\n",
    "              f\"Mean Reward {mean_ep_reward} - \"\n",
    "              f\"Mean Length {mean_ep_length} - \"\n",
    "              f\"Mean Loss {mean_ep_loss} - \"\n",
    "              f\"Mean Q Value {mean_ep_q} - \"\n",
    "              f\"Time Delta {time_since_last_record} - \"\n",
    "              f\"Time {datetime.datetime.now().strftime('%Y-%m-%dT%H:%M:%S')}\")\n",
    "        \n",
    "        with open(self.save_log, \"a\") as f:\n",
    "            f.write(f\"{episode:8d}{step:8d}{epsilon:10.3f}\"\n",
    "                    f\"{mean_ep_reward:15.3f}{mean_ep_length:15.3f}{mean_ep_loss:15.3f}{mean_ep_q:15.3f}\"\n",
    "                    f\"{time_since_last_record: 15.3f}\"\n",
    "                    f\"{datetime.datetime.now().strftime('%Y-%m-%dT%H:%M:%S'):>20}\\n\")\n",
    "            \n",
    "        for metric in [\"ep_rewards\", \"ep_lengths\", \"ep_avg_losses\", \"ep_avg_qs\"]:\n",
    "            plt.plot(getattr(self, f\"moving_avg_{metric}\"))\n",
    "            plt.savefig(getattr(self, f\"{metric}_plot\"))\n",
    "            plt.clf()"
   ]
  },
  {
   "cell_type": "code",
   "execution_count": 19,
   "metadata": {},
   "outputs": [],
   "source": [
    "class Trainer:\n",
    "    def __init__(self):\n",
    "        self.save_dir = os.path.join(\"ckpts\", datetime.datetime.now().strftime(\"%Y-%m-%dT%H-%M-%S\"))\n",
    "        os.makedirs(self.save_dir, exist_ok=True)\n",
    "        self.mario = Mario(state_dim=(84, 84, 4), \n",
    "                           action_dim=env.action_space.n, \n",
    "                           save_dir=self.save_dir)\n",
    "        self.logger = MetricLogger(self.save_dir)\n",
    "        \n",
    "    def set_ckpt_and_manager(self):\n",
    "        self.ckpt = tf.train.Checkpoint(step=tf.Variable(0),\n",
    "                                        exploration_rate=self.mario.exploration_rate,\n",
    "                                        optimizer=self.mario.optimizer,\n",
    "                                        online_net=self.mario.online_net)\n",
    "        self.ckpt_manager = tf.train.CheckpointManager(self.ckpt,\n",
    "                                                      self.save_dir,\n",
    "                                                      max_to_keep=5)\n",
    "\n",
    "    def train_and_checkpoint(self, num_episode):\n",
    "        self.set_ckpt_and_manager()\n",
    "        self.ckpt.restore(self.ckpt_manager.latest_checkpoint)\n",
    "        if self.ckpt_manager.latest_checkpoint:\n",
    "            print(f\"Restored from {self.ckpt_manager.latest_checkpoint}\")\n",
    "        else:\n",
    "            print(\"Initializing from scratch.\")\n",
    "\n",
    "        for e in range(num_episode):\n",
    "            state = env.reset()\n",
    "\n",
    "            # Play for each episode\n",
    "            while True:\n",
    "                # Run agent on the state\n",
    "                action = self.mario.act(state)\n",
    "                # Agent performs action\n",
    "                next_state, reward, done, info = env.step(action)\n",
    "                # Remember\n",
    "                self.mario.cache(state, next_state, action, reward, done)\n",
    "                #Learn\n",
    "                q, loss = self.mario.learn(self.ckpt_manager)\n",
    "                # Logging\n",
    "                self.logger.log_step(reward, loss, q)\n",
    "                # Update state\n",
    "                state = next_state\n",
    "                # Check if end of game\n",
    "                if done or info[\"flag_get\"]:\n",
    "                    break\n",
    "\n",
    "            self.logger.log_episode()\n",
    "\n",
    "            if e % 20 == 0:\n",
    "                self.logger.record(episode=e, epsilon=self.mario.exploration_rate, step=self.mario.curr_step)"
   ]
  },
  {
   "cell_type": "code",
   "execution_count": 20,
   "metadata": {},
   "outputs": [
    {
     "name": "stdout",
     "output_type": "stream",
     "text": [
      "Initializing from scratch.\n"
     ]
    },
    {
     "ename": "AttributeError",
     "evalue": "'MetricLogger' object has no attribute 'moving_avg_ep_lengths'",
     "output_type": "error",
     "traceback": [
      "\u001b[0;31m---------------------------------------------------------------------------\u001b[0m",
      "\u001b[0;31mAttributeError\u001b[0m                            Traceback (most recent call last)",
      "\u001b[0;32m<ipython-input-20-038565e7986e>\u001b[0m in \u001b[0;36m<module>\u001b[0;34m\u001b[0m\n\u001b[1;32m      1\u001b[0m \u001b[0mtrainer\u001b[0m \u001b[0;34m=\u001b[0m \u001b[0mTrainer\u001b[0m\u001b[0;34m(\u001b[0m\u001b[0;34m)\u001b[0m\u001b[0;34m\u001b[0m\u001b[0;34m\u001b[0m\u001b[0m\n\u001b[0;32m----> 2\u001b[0;31m \u001b[0mtrainer\u001b[0m\u001b[0;34m.\u001b[0m\u001b[0mtrain_and_checkpoint\u001b[0m\u001b[0;34m(\u001b[0m\u001b[0;36m10\u001b[0m\u001b[0;34m)\u001b[0m\u001b[0;34m\u001b[0m\u001b[0;34m\u001b[0m\u001b[0m\n\u001b[0m",
      "\u001b[0;32m<ipython-input-19-2daf12c9b2c9>\u001b[0m in \u001b[0;36mtrain_and_checkpoint\u001b[0;34m(self, num_episode)\u001b[0m\n\u001b[1;32m     49\u001b[0m \u001b[0;34m\u001b[0m\u001b[0m\n\u001b[1;32m     50\u001b[0m             \u001b[0;32mif\u001b[0m \u001b[0me\u001b[0m \u001b[0;34m%\u001b[0m \u001b[0;36m20\u001b[0m \u001b[0;34m==\u001b[0m \u001b[0;36m0\u001b[0m\u001b[0;34m:\u001b[0m\u001b[0;34m\u001b[0m\u001b[0;34m\u001b[0m\u001b[0m\n\u001b[0;32m---> 51\u001b[0;31m                 \u001b[0mself\u001b[0m\u001b[0;34m.\u001b[0m\u001b[0mlogger\u001b[0m\u001b[0;34m.\u001b[0m\u001b[0mrecord\u001b[0m\u001b[0;34m(\u001b[0m\u001b[0mepisode\u001b[0m\u001b[0;34m=\u001b[0m\u001b[0me\u001b[0m\u001b[0;34m,\u001b[0m \u001b[0mepsilon\u001b[0m\u001b[0;34m=\u001b[0m\u001b[0mself\u001b[0m\u001b[0;34m.\u001b[0m\u001b[0mmario\u001b[0m\u001b[0;34m.\u001b[0m\u001b[0mexploration_rate\u001b[0m\u001b[0;34m,\u001b[0m \u001b[0mstep\u001b[0m\u001b[0;34m=\u001b[0m\u001b[0mself\u001b[0m\u001b[0;34m.\u001b[0m\u001b[0mmario\u001b[0m\u001b[0;34m.\u001b[0m\u001b[0mcurr_step\u001b[0m\u001b[0;34m)\u001b[0m\u001b[0;34m\u001b[0m\u001b[0;34m\u001b[0m\u001b[0m\n\u001b[0m",
      "\u001b[0;32m<ipython-input-18-ec2b8cf571f3>\u001b[0m in \u001b[0;36mrecord\u001b[0;34m(self, episode, epsilon, step)\u001b[0m\n\u001b[1;32m     66\u001b[0m         \u001b[0mmean_ep_q\u001b[0m \u001b[0;34m=\u001b[0m \u001b[0mnp\u001b[0m\u001b[0;34m.\u001b[0m\u001b[0mround\u001b[0m\u001b[0;34m(\u001b[0m\u001b[0mnp\u001b[0m\u001b[0;34m.\u001b[0m\u001b[0mmean\u001b[0m\u001b[0;34m(\u001b[0m\u001b[0mself\u001b[0m\u001b[0;34m.\u001b[0m\u001b[0mep_avg_qs\u001b[0m\u001b[0;34m[\u001b[0m\u001b[0;34m-\u001b[0m\u001b[0;36m100\u001b[0m\u001b[0;34m:\u001b[0m\u001b[0;34m]\u001b[0m\u001b[0;34m)\u001b[0m\u001b[0;34m,\u001b[0m \u001b[0;36m3\u001b[0m\u001b[0;34m)\u001b[0m\u001b[0;34m\u001b[0m\u001b[0;34m\u001b[0m\u001b[0m\n\u001b[1;32m     67\u001b[0m         \u001b[0mself\u001b[0m\u001b[0;34m.\u001b[0m\u001b[0mmoving_avg_ep_rewards\u001b[0m\u001b[0;34m.\u001b[0m\u001b[0mappend\u001b[0m\u001b[0;34m(\u001b[0m\u001b[0mmean_ep_reward\u001b[0m\u001b[0;34m)\u001b[0m\u001b[0;34m\u001b[0m\u001b[0;34m\u001b[0m\u001b[0m\n\u001b[0;32m---> 68\u001b[0;31m         \u001b[0mself\u001b[0m\u001b[0;34m.\u001b[0m\u001b[0mmoving_avg_ep_lengths\u001b[0m\u001b[0;34m.\u001b[0m\u001b[0mappend\u001b[0m\u001b[0;34m(\u001b[0m\u001b[0mmean_ep_length\u001b[0m\u001b[0;34m)\u001b[0m\u001b[0;34m\u001b[0m\u001b[0;34m\u001b[0m\u001b[0m\n\u001b[0m\u001b[1;32m     69\u001b[0m         \u001b[0mself\u001b[0m\u001b[0;34m.\u001b[0m\u001b[0mmoving_avg_ep_avg_losses\u001b[0m\u001b[0;34m.\u001b[0m\u001b[0mappend\u001b[0m\u001b[0;34m(\u001b[0m\u001b[0mmean_ep_loss\u001b[0m\u001b[0;34m)\u001b[0m\u001b[0;34m\u001b[0m\u001b[0;34m\u001b[0m\u001b[0m\n\u001b[1;32m     70\u001b[0m         \u001b[0mself\u001b[0m\u001b[0;34m.\u001b[0m\u001b[0mmoving_avg_ep_avg_qs\u001b[0m\u001b[0;34m.\u001b[0m\u001b[0mappend\u001b[0m\u001b[0;34m(\u001b[0m\u001b[0mmean_ep_q\u001b[0m\u001b[0;34m)\u001b[0m\u001b[0;34m\u001b[0m\u001b[0;34m\u001b[0m\u001b[0m\n",
      "\u001b[0;31mAttributeError\u001b[0m: 'MetricLogger' object has no attribute 'moving_avg_ep_lengths'"
     ]
    }
   ],
   "source": [
    "trainer = Trainer()\n",
    "trainer.train_and_checkpoint(10)"
   ]
  },
  {
   "cell_type": "code",
   "execution_count": null,
   "metadata": {},
   "outputs": [],
   "source": []
  }
 ],
 "metadata": {
  "kernelspec": {
   "display_name": "Python 3",
   "language": "python",
   "name": "python3"
  },
  "language_info": {
   "codemirror_mode": {
    "name": "ipython",
    "version": 3
   },
   "file_extension": ".py",
   "mimetype": "text/x-python",
   "name": "python",
   "nbconvert_exporter": "python",
   "pygments_lexer": "ipython3",
   "version": "3.7.9"
  }
 },
 "nbformat": 4,
 "nbformat_minor": 4
}
